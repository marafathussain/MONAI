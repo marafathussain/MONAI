{
 "cells": [
  {
   "cell_type": "code",
   "execution_count": 2,
   "metadata": {},
   "outputs": [],
   "source": [
    "import sys\n",
    "import logging\n",
    "import numpy as np\n",
    "import nibabel as nib\n",
    "import os\n",
    "import matplotlib.pyplot as plt\n",
    "import glob"
   ]
  },
  {
   "cell_type": "code",
   "execution_count": null,
   "metadata": {},
   "outputs": [],
   "source": [
    "'''\n",
    "cov_pos_dir = '/home/marafath/scratch/bimcv/covid_pos/BIMCV-COVID19'\n",
    "train_images = sorted(glob.glob(os.path.join(cov_pos_dir, \"sub-S0*\", \"ses-E0*\", \"mod-rx\", \"*chest_ct.nii.gz\")))\n",
    "\n",
    "for i in range(0,len(train_images)):\n",
    "    img = nib.load(train_images[i])\n",
    "    data = img.get_fdata()\n",
    "    z = data.shape[-1]\n",
    "    \n",
    "    if z > 30:\n",
    "        plt.title('CT')\n",
    "        plt.imshow(data[:, :, int(np.round_(z/2))], cmap='gray')\n",
    "        print('pos_serial: {}'.format(i))\n",
    "        plt.show()\n",
    "\n",
    "\n",
    "cov_neg_dir = '/home/marafath/scratch/bimcv/covid_neg/BIMCV-COVID19-Negative'\n",
    "train_images = sorted(glob.glob(os.path.join(cov_neg_dir, \"sub-S0*\", \"ses-E0*\", \"mod-rx\", \"*chest_ct.nii.gz\")))\n",
    "\n",
    "for i in range(0,len(train_images)):\n",
    "    img = nib.load(train_images[i])\n",
    "    data = img.get_fdata()\n",
    "    z = data.shape[-1]\n",
    "    \n",
    "    if z > 30:  \n",
    "        plt.title('CT')\n",
    "        plt.imshow(data[:, :, int(np.round_(z/2))], cmap='gray')\n",
    "        print('neg_serial: {}'.format(i))\n",
    "        plt.show()\n",
    "'''"
   ]
  },
  {
   "cell_type": "code",
   "execution_count": 24,
   "metadata": {},
   "outputs": [
    {
     "name": "stdout",
     "output_type": "stream",
     "text": [
      "1765\n",
      "1896\n"
     ]
    }
   ],
   "source": [
    "cov_dir = '/home/marafath/scratch/bimcv'\n",
    "train_images = sorted(glob.glob(os.path.join(cov_dir,\"covid_*\" ,\"BIMCV-COVID19*\",\"sub-S0*\", \"ses-E0*\", \"mod-rx\", \"*chest_ct.nii.gz\")))\n",
    "train_labels = sorted(glob.glob(os.path.join(cov_dir,\"covid_*\" ,\"BIMCV-COVID19*\",\"sub-S0*\", \"ses-E0*\", \"mod-rx\", \"*chest_mask.nii.gz\")))\n",
    "print(len(train_images))\n",
    "print(len(train_labels))"
   ]
  },
  {
   "cell_type": "code",
   "execution_count": 23,
   "metadata": {},
   "outputs": [],
   "source": [
    "#import shutil\n",
    "for i in range(0,len(train_images)):\n",
    "    img = nib.load(train_images[i])\n",
    "    \n",
    "    if img.shape[-1] < 50: \n",
    "        #shutil.rmtree(train_images[i])\n",
    "        os.remove(train_images[i])\n",
    "    else:\n",
    "        false_mask = np.zeros((img.shape), dtype=np.int16)    \n",
    "        rescaled_data = nib.Nifti1Image(false_mask, img.affine, img.header)\n",
    "        nib.save(rescaled_data, train_images[i][0:-9]+'mask.nii.gz')"
   ]
  },
  {
   "cell_type": "code",
   "execution_count": 13,
   "metadata": {},
   "outputs": [
    {
     "name": "stdout",
     "output_type": "stream",
     "text": [
      "/home/marafath/scratch/bimcv/covid_neg/BIMCV-COVID19-Negative/sub-S04524/ses-E08989/mod-rx/sub-S04524_ses-E08989_acq-1_run-1_bp-chest_ct.nii.gz\n",
      "sub-S04524_ses-E08989_acq-1_run-1_bp-chest_ct.nii.gz\n",
      "/home/marafath/scratch/bimcv/covid_neg/BIMCV-COVID19-Negative/sub-S04524/ses-E08989/mod-rx/sub-S04524_ses-E08989_acq-1_run-1_bp-chest_\n",
      "/home/marafath/scratch/bimcv/covid_neg/BIMCV-COVID19-Negative/sub-S04524/ses-E08989/mod-rx/sub-S04524_ses-E08989_acq-1_run-1_bp-chest_mask.nii.gz\n"
     ]
    }
   ],
   "source": [
    "print(train_images[0])\n",
    "print(train_images[0].split(\"/\")[-1])\n",
    "print(train_images[0][0:-9])\n",
    "print(train_images[0][0:-9]+'mask.nii.gz')"
   ]
  },
  {
   "cell_type": "code",
   "execution_count": 16,
   "metadata": {},
   "outputs": [
    {
     "name": "stdout",
     "output_type": "stream",
     "text": [
      "602\n"
     ]
    }
   ],
   "source": [
    "print(i)"
   ]
  },
  {
   "cell_type": "code",
   "execution_count": 17,
   "metadata": {},
   "outputs": [
    {
     "name": "stdout",
     "output_type": "stream",
     "text": [
      "/home/marafath/scratch/bimcv/covid_neg/BIMCV-COVID19-Negative/sub-S04688/ses-E09301/mod-rx/sub-S04688_ses-E09301_run-5_bp-chest_ct.nii.gz\n"
     ]
    }
   ],
   "source": [
    "print(train_images[602])"
   ]
  },
  {
   "cell_type": "code",
   "execution_count": 20,
   "metadata": {},
   "outputs": [
    {
     "name": "stdout",
     "output_type": "stream",
     "text": [
      "1\n"
     ]
    }
   ],
   "source": [
    "print(img.shape[-1])"
   ]
  },
  {
   "cell_type": "code",
   "execution_count": null,
   "metadata": {},
   "outputs": [],
   "source": []
  }
 ],
 "metadata": {
  "kernelspec": {
   "display_name": "Python 3",
   "language": "python",
   "name": "python3"
  },
  "language_info": {
   "codemirror_mode": {
    "name": "ipython",
    "version": 3
   },
   "file_extension": ".py",
   "mimetype": "text/x-python",
   "name": "python",
   "nbconvert_exporter": "python",
   "pygments_lexer": "ipython3",
   "version": "3.7.4"
  }
 },
 "nbformat": 4,
 "nbformat_minor": 4
}
